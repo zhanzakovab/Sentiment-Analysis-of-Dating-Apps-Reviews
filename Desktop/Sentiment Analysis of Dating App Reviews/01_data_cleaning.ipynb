{
 "cells": [
  {
   "cell_type": "code",
   "execution_count": 15,
   "id": "16337726-3912-4ee6-9e40-603bf6f7b6bd",
   "metadata": {},
   "outputs": [
    {
     "name": "stderr",
     "output_type": "stream",
     "text": [
      "[nltk_data] Downloading package vader_lexicon to\n",
      "[nltk_data]     /Users/botakoz/nltk_data...\n",
      "[nltk_data]   Package vader_lexicon is already up-to-date!\n"
     ]
    },
    {
     "data": {
      "text/plain": [
       "True"
      ]
     },
     "execution_count": 15,
     "metadata": {},
     "output_type": "execute_result"
    },
    {
     "name": "stderr",
     "output_type": "stream",
     "text": [
      "[nltk_data] Downloading package punkt to /Users/botakoz/nltk_data...\n",
      "[nltk_data]   Package punkt is already up-to-date!\n"
     ]
    },
    {
     "data": {
      "text/plain": [
       "True"
      ]
     },
     "execution_count": 15,
     "metadata": {},
     "output_type": "execute_result"
    },
    {
     "name": "stderr",
     "output_type": "stream",
     "text": [
      "[nltk_data] Downloading package stopwords to\n",
      "[nltk_data]     /Users/botakoz/nltk_data...\n",
      "[nltk_data]   Package stopwords is already up-to-date!\n"
     ]
    },
    {
     "data": {
      "text/plain": [
       "True"
      ]
     },
     "execution_count": 15,
     "metadata": {},
     "output_type": "execute_result"
    },
    {
     "name": "stderr",
     "output_type": "stream",
     "text": [
      "[nltk_data] Downloading package wordnet to /Users/botakoz/nltk_data...\n",
      "[nltk_data]   Package wordnet is already up-to-date!\n"
     ]
    },
    {
     "data": {
      "text/plain": [
       "True"
      ]
     },
     "execution_count": 15,
     "metadata": {},
     "output_type": "execute_result"
    }
   ],
   "source": [
    "# Import libraries\n",
    "from IPython.core.interactiveshell import InteractiveShell\n",
    "InteractiveShell.ast_node_interactivity = \"all\"\n",
    "\n",
    "import numpy as np \n",
    "import pandas as pd \n",
    "import matplotlib.pyplot as plt \n",
    "import seaborn as sns\n",
    "plt.style.use('ggplot')\n",
    "\n",
    "import ast\n",
    "import contractions\n",
    "import emoji\n",
    "import re\n",
    "import string \n",
    "import nltk\n",
    "nltk.download('vader_lexicon')\n",
    "nltk.download('punkt')\n",
    "nltk.download('stopwords')\n",
    "nltk.download('wordnet')\n",
    "from nltk.stem import WordNetLemmatizer\n",
    "from nltk.corpus import stopwords\n",
    "from nltk.sentiment import SentimentIntensityAnalyzer\n",
    "from tqdm.notebook import tqdm \n",
    "from nltk.tokenize import word_tokenize"
   ]
  },
  {
   "cell_type": "code",
   "execution_count": 16,
   "id": "84339f85-be3b-4897-833f-69b83cf6657c",
   "metadata": {},
   "outputs": [
    {
     "data": {
      "text/html": [
       "<div>\n",
       "<style scoped>\n",
       "    .dataframe tbody tr th:only-of-type {\n",
       "        vertical-align: middle;\n",
       "    }\n",
       "\n",
       "    .dataframe tbody tr th {\n",
       "        vertical-align: top;\n",
       "    }\n",
       "\n",
       "    .dataframe thead th {\n",
       "        text-align: right;\n",
       "    }\n",
       "</style>\n",
       "<table border=\"1\" class=\"dataframe\">\n",
       "  <thead>\n",
       "    <tr style=\"text-align: right;\">\n",
       "      <th></th>\n",
       "      <th>Unnamed: 0</th>\n",
       "      <th>Name</th>\n",
       "      <th>Review</th>\n",
       "      <th>Rating</th>\n",
       "      <th>#ThumbsUp</th>\n",
       "      <th>Date&amp;Time</th>\n",
       "      <th>App</th>\n",
       "    </tr>\n",
       "  </thead>\n",
       "  <tbody>\n",
       "    <tr>\n",
       "      <th>0</th>\n",
       "      <td>0</td>\n",
       "      <td>linah sibanda</td>\n",
       "      <td>On this app i cant find a partner</td>\n",
       "      <td>5</td>\n",
       "      <td>0</td>\n",
       "      <td>18-02-2022 01:19</td>\n",
       "      <td>Tinder</td>\n",
       "    </tr>\n",
       "    <tr>\n",
       "      <th>1</th>\n",
       "      <td>1</td>\n",
       "      <td>Norman Johnson</td>\n",
       "      <td>Tinder would be so much better if we could spe...</td>\n",
       "      <td>3</td>\n",
       "      <td>0</td>\n",
       "      <td>18-02-2022 01:16</td>\n",
       "      <td>Tinder</td>\n",
       "    </tr>\n",
       "    <tr>\n",
       "      <th>2</th>\n",
       "      <td>2</td>\n",
       "      <td>David Hume</td>\n",
       "      <td>Still doesn't correctly notify matches or mess...</td>\n",
       "      <td>1</td>\n",
       "      <td>0</td>\n",
       "      <td>18-02-2022 01:11</td>\n",
       "      <td>Tinder</td>\n",
       "    </tr>\n",
       "    <tr>\n",
       "      <th>3</th>\n",
       "      <td>3</td>\n",
       "      <td>Last 1 Standing</td>\n",
       "      <td>Got banned because I updated my bio to say \"I ...</td>\n",
       "      <td>2</td>\n",
       "      <td>0</td>\n",
       "      <td>18-02-2022 01:11</td>\n",
       "      <td>Tinder</td>\n",
       "    </tr>\n",
       "    <tr>\n",
       "      <th>4</th>\n",
       "      <td>4</td>\n",
       "      <td>Arthur Magamedov</td>\n",
       "      <td>Love it!</td>\n",
       "      <td>5</td>\n",
       "      <td>0</td>\n",
       "      <td>18-02-2022 01:06</td>\n",
       "      <td>Tinder</td>\n",
       "    </tr>\n",
       "  </tbody>\n",
       "</table>\n",
       "</div>"
      ],
      "text/plain": [
       "   Unnamed: 0              Name  \\\n",
       "0           0     linah sibanda   \n",
       "1           1    Norman Johnson   \n",
       "2           2        David Hume   \n",
       "3           3   Last 1 Standing   \n",
       "4           4  Arthur Magamedov   \n",
       "\n",
       "                                              Review  Rating  #ThumbsUp  \\\n",
       "0                  On this app i cant find a partner       5          0   \n",
       "1  Tinder would be so much better if we could spe...       3          0   \n",
       "2  Still doesn't correctly notify matches or mess...       1          0   \n",
       "3  Got banned because I updated my bio to say \"I ...       2          0   \n",
       "4                                           Love it!       5          0   \n",
       "\n",
       "          Date&Time     App  \n",
       "0  18-02-2022 01:19  Tinder  \n",
       "1  18-02-2022 01:16  Tinder  \n",
       "2  18-02-2022 01:11  Tinder  \n",
       "3  18-02-2022 01:11  Tinder  \n",
       "4  18-02-2022 01:06  Tinder  "
      ]
     },
     "execution_count": 16,
     "metadata": {},
     "output_type": "execute_result"
    },
    {
     "name": "stdout",
     "output_type": "stream",
     "text": [
      "<class 'pandas.core.frame.DataFrame'>\n",
      "RangeIndex: 681994 entries, 0 to 681993\n",
      "Data columns (total 7 columns):\n",
      " #   Column      Non-Null Count   Dtype \n",
      "---  ------      --------------   ----- \n",
      " 0   Unnamed: 0  681994 non-null  int64 \n",
      " 1   Name        681987 non-null  object\n",
      " 2   Review      680609 non-null  object\n",
      " 3   Rating      681994 non-null  int64 \n",
      " 4   #ThumbsUp   681994 non-null  int64 \n",
      " 5   Date&Time   681994 non-null  object\n",
      " 6   App         681994 non-null  object\n",
      "dtypes: int64(3), object(4)\n",
      "memory usage: 36.4+ MB\n"
     ]
    }
   ],
   "source": [
    "# Read in the file\n",
    "data = pd.read_csv('dataset/DatingAppReviewsDataset.csv')\n",
    "data.head()\n",
    "data.info()"
   ]
  },
  {
   "cell_type": "code",
   "execution_count": 17,
   "id": "fb36e980-1d63-4a33-8667-630667498a6c",
   "metadata": {},
   "outputs": [
    {
     "data": {
      "text/html": [
       "<div>\n",
       "<style scoped>\n",
       "    .dataframe tbody tr th:only-of-type {\n",
       "        vertical-align: middle;\n",
       "    }\n",
       "\n",
       "    .dataframe tbody tr th {\n",
       "        vertical-align: top;\n",
       "    }\n",
       "\n",
       "    .dataframe thead th {\n",
       "        text-align: right;\n",
       "    }\n",
       "</style>\n",
       "<table border=\"1\" class=\"dataframe\">\n",
       "  <thead>\n",
       "    <tr style=\"text-align: right;\">\n",
       "      <th></th>\n",
       "      <th>Id</th>\n",
       "      <th>Name</th>\n",
       "      <th>Review</th>\n",
       "      <th>Rating</th>\n",
       "      <th>Date&amp;Time</th>\n",
       "      <th>App</th>\n",
       "    </tr>\n",
       "  </thead>\n",
       "  <tbody>\n",
       "    <tr>\n",
       "      <th>0</th>\n",
       "      <td>0</td>\n",
       "      <td>linah sibanda</td>\n",
       "      <td>On this app i cant find a partner</td>\n",
       "      <td>5</td>\n",
       "      <td>18-02-2022 01:19</td>\n",
       "      <td>Tinder</td>\n",
       "    </tr>\n",
       "    <tr>\n",
       "      <th>1</th>\n",
       "      <td>1</td>\n",
       "      <td>Norman Johnson</td>\n",
       "      <td>Tinder would be so much better if we could spe...</td>\n",
       "      <td>3</td>\n",
       "      <td>18-02-2022 01:16</td>\n",
       "      <td>Tinder</td>\n",
       "    </tr>\n",
       "    <tr>\n",
       "      <th>2</th>\n",
       "      <td>2</td>\n",
       "      <td>David Hume</td>\n",
       "      <td>Still doesn't correctly notify matches or mess...</td>\n",
       "      <td>1</td>\n",
       "      <td>18-02-2022 01:11</td>\n",
       "      <td>Tinder</td>\n",
       "    </tr>\n",
       "    <tr>\n",
       "      <th>3</th>\n",
       "      <td>3</td>\n",
       "      <td>Last 1 Standing</td>\n",
       "      <td>Got banned because I updated my bio to say \"I ...</td>\n",
       "      <td>2</td>\n",
       "      <td>18-02-2022 01:11</td>\n",
       "      <td>Tinder</td>\n",
       "    </tr>\n",
       "    <tr>\n",
       "      <th>4</th>\n",
       "      <td>4</td>\n",
       "      <td>Arthur Magamedov</td>\n",
       "      <td>Love it!</td>\n",
       "      <td>5</td>\n",
       "      <td>18-02-2022 01:06</td>\n",
       "      <td>Tinder</td>\n",
       "    </tr>\n",
       "  </tbody>\n",
       "</table>\n",
       "</div>"
      ],
      "text/plain": [
       "   Id              Name                                             Review  \\\n",
       "0   0     linah sibanda                  On this app i cant find a partner   \n",
       "1   1    Norman Johnson  Tinder would be so much better if we could spe...   \n",
       "2   2        David Hume  Still doesn't correctly notify matches or mess...   \n",
       "3   3   Last 1 Standing  Got banned because I updated my bio to say \"I ...   \n",
       "4   4  Arthur Magamedov                                           Love it!   \n",
       "\n",
       "   Rating         Date&Time     App  \n",
       "0       5  18-02-2022 01:19  Tinder  \n",
       "1       3  18-02-2022 01:16  Tinder  \n",
       "2       1  18-02-2022 01:11  Tinder  \n",
       "3       2  18-02-2022 01:11  Tinder  \n",
       "4       5  18-02-2022 01:06  Tinder  "
      ]
     },
     "execution_count": 17,
     "metadata": {},
     "output_type": "execute_result"
    }
   ],
   "source": [
    "# Drop unnecessary columns \n",
    "data.drop(columns=['#ThumbsUp'],inplace = True)\n",
    "data.rename(columns={'Unnamed: 0': 'Id'}, inplace=True)\n",
    "data.head()"
   ]
  },
  {
   "cell_type": "markdown",
   "id": "5ad78942-a6e3-448a-9640-dd3d92986ceb",
   "metadata": {},
   "source": [
    "## DATA CLEANING"
   ]
  },
  {
   "cell_type": "code",
   "execution_count": 18,
   "id": "480d539c-5496-4fcd-940f-af7f2d6cdc6c",
   "metadata": {},
   "outputs": [
    {
     "name": "stdout",
     "output_type": "stream",
     "text": [
      "<class 'pandas.core.frame.DataFrame'>\n",
      "RangeIndex: 681994 entries, 0 to 681993\n",
      "Data columns (total 6 columns):\n",
      " #   Column     Non-Null Count   Dtype \n",
      "---  ------     --------------   ----- \n",
      " 0   Id         681994 non-null  int64 \n",
      " 1   Name       681987 non-null  object\n",
      " 2   Review     680609 non-null  object\n",
      " 3   Rating     681994 non-null  int64 \n",
      " 4   Date&Time  681994 non-null  object\n",
      " 5   App        681994 non-null  object\n",
      "dtypes: int64(2), object(4)\n",
      "memory usage: 31.2+ MB\n"
     ]
    },
    {
     "data": {
      "text/plain": [
       "np.int64(0)"
      ]
     },
     "execution_count": 18,
     "metadata": {},
     "output_type": "execute_result"
    },
    {
     "data": {
      "text/plain": [
       "Id              0\n",
       "Name            7\n",
       "Review       1385\n",
       "Rating          0\n",
       "Date&Time       0\n",
       "App             0\n",
       "dtype: int64"
      ]
     },
     "execution_count": 18,
     "metadata": {},
     "output_type": "execute_result"
    },
    {
     "data": {
      "text/html": [
       "<div>\n",
       "<style scoped>\n",
       "    .dataframe tbody tr th:only-of-type {\n",
       "        vertical-align: middle;\n",
       "    }\n",
       "\n",
       "    .dataframe tbody tr th {\n",
       "        vertical-align: top;\n",
       "    }\n",
       "\n",
       "    .dataframe thead th {\n",
       "        text-align: right;\n",
       "    }\n",
       "</style>\n",
       "<table border=\"1\" class=\"dataframe\">\n",
       "  <thead>\n",
       "    <tr style=\"text-align: right;\">\n",
       "      <th></th>\n",
       "      <th>Id</th>\n",
       "      <th>Name</th>\n",
       "      <th>Review</th>\n",
       "      <th>Rating</th>\n",
       "      <th>Date&amp;Time</th>\n",
       "      <th>App</th>\n",
       "    </tr>\n",
       "  </thead>\n",
       "  <tbody>\n",
       "    <tr>\n",
       "      <th>74375</th>\n",
       "      <td>74375</td>\n",
       "      <td>Unknown</td>\n",
       "      <td>Worst app I have seen in my life doesn't open ...</td>\n",
       "      <td>1</td>\n",
       "      <td>10-12-2020 19:03</td>\n",
       "      <td>Tinder</td>\n",
       "    </tr>\n",
       "    <tr>\n",
       "      <th>184990</th>\n",
       "      <td>184990</td>\n",
       "      <td>Unknown</td>\n",
       "      <td>this app is actually good but worst part is af...</td>\n",
       "      <td>1</td>\n",
       "      <td>08-06-2019 12:38</td>\n",
       "      <td>Tinder</td>\n",
       "    </tr>\n",
       "    <tr>\n",
       "      <th>574311</th>\n",
       "      <td>47695</td>\n",
       "      <td>Unknown</td>\n",
       "      <td>Race filter missing You allow filtering of eve...</td>\n",
       "      <td>1</td>\n",
       "      <td>25-02-2020 04:23</td>\n",
       "      <td>Bumble</td>\n",
       "    </tr>\n",
       "  </tbody>\n",
       "</table>\n",
       "</div>"
      ],
      "text/plain": [
       "            Id     Name                                             Review  \\\n",
       "74375    74375  Unknown  Worst app I have seen in my life doesn't open ...   \n",
       "184990  184990  Unknown  this app is actually good but worst part is af...   \n",
       "574311   47695  Unknown  Race filter missing You allow filtering of eve...   \n",
       "\n",
       "        Rating         Date&Time     App  \n",
       "74375        1  10-12-2020 19:03  Tinder  \n",
       "184990       1  08-06-2019 12:38  Tinder  \n",
       "574311       1  25-02-2020 04:23  Bumble  "
      ]
     },
     "execution_count": 18,
     "metadata": {},
     "output_type": "execute_result"
    },
    {
     "data": {
      "text/html": [
       "<div>\n",
       "<style scoped>\n",
       "    .dataframe tbody tr th:only-of-type {\n",
       "        vertical-align: middle;\n",
       "    }\n",
       "\n",
       "    .dataframe tbody tr th {\n",
       "        vertical-align: top;\n",
       "    }\n",
       "\n",
       "    .dataframe thead th {\n",
       "        text-align: right;\n",
       "    }\n",
       "</style>\n",
       "<table border=\"1\" class=\"dataframe\">\n",
       "  <thead>\n",
       "    <tr style=\"text-align: right;\">\n",
       "      <th></th>\n",
       "      <th>Id</th>\n",
       "      <th>Name</th>\n",
       "      <th>Review</th>\n",
       "      <th>Rating</th>\n",
       "      <th>Date&amp;Time</th>\n",
       "      <th>App</th>\n",
       "    </tr>\n",
       "  </thead>\n",
       "  <tbody>\n",
       "    <tr>\n",
       "      <th>95608</th>\n",
       "      <td>95608</td>\n",
       "      <td>Jaydev Nishad</td>\n",
       "      <td>😠😑🤣🤣🤣</td>\n",
       "      <td>1</td>\n",
       "      <td>14-08-2020 20:50</td>\n",
       "      <td>Tinder</td>\n",
       "    </tr>\n",
       "  </tbody>\n",
       "</table>\n",
       "</div>"
      ],
      "text/plain": [
       "          Id           Name Review  Rating         Date&Time     App\n",
       "95608  95608  Jaydev Nishad  😠😑🤣🤣🤣       1  14-08-2020 20:50  Tinder"
      ]
     },
     "execution_count": 18,
     "metadata": {},
     "output_type": "execute_result"
    },
    {
     "data": {
      "text/html": [
       "<div>\n",
       "<style scoped>\n",
       "    .dataframe tbody tr th:only-of-type {\n",
       "        vertical-align: middle;\n",
       "    }\n",
       "\n",
       "    .dataframe tbody tr th {\n",
       "        vertical-align: top;\n",
       "    }\n",
       "\n",
       "    .dataframe thead th {\n",
       "        text-align: right;\n",
       "    }\n",
       "</style>\n",
       "<table border=\"1\" class=\"dataframe\">\n",
       "  <thead>\n",
       "    <tr style=\"text-align: right;\">\n",
       "      <th></th>\n",
       "      <th>Id</th>\n",
       "      <th>Name</th>\n",
       "      <th>Review</th>\n",
       "      <th>Rating</th>\n",
       "      <th>Date&amp;Time</th>\n",
       "      <th>App</th>\n",
       "    </tr>\n",
       "  </thead>\n",
       "  <tbody>\n",
       "    <tr>\n",
       "      <th>372332</th>\n",
       "      <td>372332</td>\n",
       "      <td>Jena Fernando</td>\n",
       "      <td>#geg</td>\n",
       "      <td>4</td>\n",
       "      <td>01-11-2016 20:55</td>\n",
       "      <td>Tinder</td>\n",
       "    </tr>\n",
       "  </tbody>\n",
       "</table>\n",
       "</div>"
      ],
      "text/plain": [
       "            Id           Name Review  Rating         Date&Time     App\n",
       "372332  372332  Jena Fernando   #geg       4  01-11-2016 20:55  Tinder"
      ]
     },
     "execution_count": 18,
     "metadata": {},
     "output_type": "execute_result"
    }
   ],
   "source": [
    "# ChECK the total rows and columns, and their datatypes\n",
    "data.info()\n",
    "# Check for duplicate rows if there are any \n",
    "data.duplicated().sum()\n",
    "# Check for missing values in each column \n",
    "data.isnull().sum()\n",
    "# Check for NA values in each column \n",
    "# data.isna().sum()\n",
    "data[data['Name']=='Unknown'] \n",
    "data[data['Name'].str.contains('Jaydev Nishad', case=False, na=False)]\n",
    "data[data['Id'] == 372332]"
   ]
  },
  {
   "cell_type": "code",
   "execution_count": 19,
   "id": "4e0f4b4d-4ca1-4f50-b58a-585361aecba6",
   "metadata": {},
   "outputs": [
    {
     "name": "stdout",
     "output_type": "stream",
     "text": [
      "<class 'pandas.core.frame.DataFrame'>\n",
      "Index: 680609 entries, 0 to 681993\n",
      "Data columns (total 6 columns):\n",
      " #   Column     Non-Null Count   Dtype         \n",
      "---  ------     --------------   -----         \n",
      " 0   Id         680609 non-null  int64         \n",
      " 1   Name       680609 non-null  object        \n",
      " 2   Review     680609 non-null  object        \n",
      " 3   Rating     680609 non-null  int64         \n",
      " 4   Date&Time  680609 non-null  datetime64[ns]\n",
      " 5   App        680609 non-null  object        \n",
      "dtypes: datetime64[ns](1), int64(2), object(3)\n",
      "memory usage: 36.3+ MB\n"
     ]
    },
    {
     "name": "stderr",
     "output_type": "stream",
     "text": [
      "/var/folders/gl/0z9c8j8x38145vq7j3xh6f640000gn/T/ipykernel_29855/2687011836.py:8: UserWarning: Parsing dates in %d-%m-%Y %H:%M format when dayfirst=False (the default) was specified. Pass `dayfirst=True` or specify a format to silence this warning.\n",
      "  data['Date&Time'] = pd.to_datetime(data['Date&Time'], errors='coerce')\n"
     ]
    },
    {
     "data": {
      "text/html": [
       "<div>\n",
       "<style scoped>\n",
       "    .dataframe tbody tr th:only-of-type {\n",
       "        vertical-align: middle;\n",
       "    }\n",
       "\n",
       "    .dataframe tbody tr th {\n",
       "        vertical-align: top;\n",
       "    }\n",
       "\n",
       "    .dataframe thead th {\n",
       "        text-align: right;\n",
       "    }\n",
       "</style>\n",
       "<table border=\"1\" class=\"dataframe\">\n",
       "  <thead>\n",
       "    <tr style=\"text-align: right;\">\n",
       "      <th></th>\n",
       "      <th>Id</th>\n",
       "      <th>Name</th>\n",
       "      <th>Review</th>\n",
       "      <th>Rating</th>\n",
       "      <th>Date&amp;Time</th>\n",
       "      <th>App</th>\n",
       "    </tr>\n",
       "  </thead>\n",
       "  <tbody>\n",
       "    <tr>\n",
       "      <th>0</th>\n",
       "      <td>0</td>\n",
       "      <td>linah sibanda</td>\n",
       "      <td>On this app i cant find a partner</td>\n",
       "      <td>5</td>\n",
       "      <td>2022-02-18 01:19:00</td>\n",
       "      <td>Tinder</td>\n",
       "    </tr>\n",
       "    <tr>\n",
       "      <th>1</th>\n",
       "      <td>1</td>\n",
       "      <td>Norman Johnson</td>\n",
       "      <td>Tinder would be so much better if we could spe...</td>\n",
       "      <td>3</td>\n",
       "      <td>2022-02-18 01:16:00</td>\n",
       "      <td>Tinder</td>\n",
       "    </tr>\n",
       "    <tr>\n",
       "      <th>2</th>\n",
       "      <td>2</td>\n",
       "      <td>David Hume</td>\n",
       "      <td>Still doesn't correctly notify matches or mess...</td>\n",
       "      <td>1</td>\n",
       "      <td>2022-02-18 01:11:00</td>\n",
       "      <td>Tinder</td>\n",
       "    </tr>\n",
       "    <tr>\n",
       "      <th>3</th>\n",
       "      <td>3</td>\n",
       "      <td>Last 1 Standing</td>\n",
       "      <td>Got banned because I updated my bio to say \"I ...</td>\n",
       "      <td>2</td>\n",
       "      <td>2022-02-18 01:11:00</td>\n",
       "      <td>Tinder</td>\n",
       "    </tr>\n",
       "    <tr>\n",
       "      <th>4</th>\n",
       "      <td>4</td>\n",
       "      <td>Arthur Magamedov</td>\n",
       "      <td>Love it!</td>\n",
       "      <td>5</td>\n",
       "      <td>2022-02-18 01:06:00</td>\n",
       "      <td>Tinder</td>\n",
       "    </tr>\n",
       "  </tbody>\n",
       "</table>\n",
       "</div>"
      ],
      "text/plain": [
       "   Id              Name                                             Review  \\\n",
       "0   0     linah sibanda                  On this app i cant find a partner   \n",
       "1   1    Norman Johnson  Tinder would be so much better if we could spe...   \n",
       "2   2        David Hume  Still doesn't correctly notify matches or mess...   \n",
       "3   3   Last 1 Standing  Got banned because I updated my bio to say \"I ...   \n",
       "4   4  Arthur Magamedov                                           Love it!   \n",
       "\n",
       "   Rating           Date&Time     App  \n",
       "0       5 2022-02-18 01:19:00  Tinder  \n",
       "1       3 2022-02-18 01:16:00  Tinder  \n",
       "2       1 2022-02-18 01:11:00  Tinder  \n",
       "3       2 2022-02-18 01:11:00  Tinder  \n",
       "4       5 2022-02-18 01:06:00  Tinder  "
      ]
     },
     "execution_count": 19,
     "metadata": {},
     "output_type": "execute_result"
    }
   ],
   "source": [
    "# Drop the missing reviews\n",
    "data = data.dropna(subset=['Review'])\n",
    "\n",
    "# Replace missing names with unknown \n",
    "data['Name'] = data['Name'].fillna('Unknown')\n",
    "\n",
    "# Convert the column to datetime dtype\n",
    "data['Date&Time'] = pd.to_datetime(data['Date&Time'], errors='coerce')\n",
    "\n",
    "data.info()\n",
    "data.head() "
   ]
  },
  {
   "cell_type": "markdown",
   "id": "3833f7b6-5cbb-4af1-af46-7facec8c6c78",
   "metadata": {},
   "source": [
    "Some reviews are consisted of emojis. Since standard text tokenization methods tend to ignore non-alphabetic symbols, these reviews will result in empty token lists."
   ]
  },
  {
   "cell_type": "code",
   "execution_count": 20,
   "id": "32a1a8b4-1f70-481d-909a-1f5be280f45b",
   "metadata": {},
   "outputs": [
    {
     "data": {
      "text/plain": [
       "np.int64(26783)"
      ]
     },
     "execution_count": 20,
     "metadata": {},
     "output_type": "execute_result"
    }
   ],
   "source": [
    "# Check for reviews with emojis\n",
    "emoji_count = data['Review'].apply(lambda x: any(char in emoji.EMOJI_DATA for char in x)).sum()\n",
    "emoji_count"
   ]
  },
  {
   "cell_type": "code",
   "execution_count": 21,
   "id": "0c0c7efd-75a4-4617-8c67-28f4b9419406",
   "metadata": {},
   "outputs": [
    {
     "data": {
      "text/html": [
       "<div>\n",
       "<style scoped>\n",
       "    .dataframe tbody tr th:only-of-type {\n",
       "        vertical-align: middle;\n",
       "    }\n",
       "\n",
       "    .dataframe tbody tr th {\n",
       "        vertical-align: top;\n",
       "    }\n",
       "\n",
       "    .dataframe thead th {\n",
       "        text-align: right;\n",
       "    }\n",
       "</style>\n",
       "<table border=\"1\" class=\"dataframe\">\n",
       "  <thead>\n",
       "    <tr style=\"text-align: right;\">\n",
       "      <th></th>\n",
       "      <th>Id</th>\n",
       "      <th>Name</th>\n",
       "      <th>Review</th>\n",
       "      <th>Rating</th>\n",
       "      <th>Date&amp;Time</th>\n",
       "      <th>App</th>\n",
       "    </tr>\n",
       "  </thead>\n",
       "  <tbody>\n",
       "    <tr>\n",
       "      <th>95608</th>\n",
       "      <td>95608</td>\n",
       "      <td>Jaydev Nishad</td>\n",
       "      <td>:angry_face::expressionless_face::rolling_on_t...</td>\n",
       "      <td>1</td>\n",
       "      <td>2020-08-14 20:50:00</td>\n",
       "      <td>Tinder</td>\n",
       "    </tr>\n",
       "  </tbody>\n",
       "</table>\n",
       "</div>"
      ],
      "text/plain": [
       "          Id           Name  \\\n",
       "95608  95608  Jaydev Nishad   \n",
       "\n",
       "                                                  Review  Rating  \\\n",
       "95608  :angry_face::expressionless_face::rolling_on_t...       1   \n",
       "\n",
       "                Date&Time     App  \n",
       "95608 2020-08-14 20:50:00  Tinder  "
      ]
     },
     "execution_count": 21,
     "metadata": {},
     "output_type": "execute_result"
    }
   ],
   "source": [
    "# Convert emojis to descriptive text \n",
    "data['Review'] = data['Review'].apply(lambda x: emoji.demojize(x))\n",
    "data[data['Name'].str.contains('Jaydev Nishad', case=False, na=False)]"
   ]
  },
  {
   "cell_type": "code",
   "execution_count": 22,
   "id": "244a8625-9327-49bf-8345-7e4e8cf7a8f1",
   "metadata": {},
   "outputs": [
    {
     "data": {
      "text/html": [
       "<div>\n",
       "<style scoped>\n",
       "    .dataframe tbody tr th:only-of-type {\n",
       "        vertical-align: middle;\n",
       "    }\n",
       "\n",
       "    .dataframe tbody tr th {\n",
       "        vertical-align: top;\n",
       "    }\n",
       "\n",
       "    .dataframe thead th {\n",
       "        text-align: right;\n",
       "    }\n",
       "</style>\n",
       "<table border=\"1\" class=\"dataframe\">\n",
       "  <thead>\n",
       "    <tr style=\"text-align: right;\">\n",
       "      <th></th>\n",
       "      <th>Id</th>\n",
       "      <th>Name</th>\n",
       "      <th>Review</th>\n",
       "      <th>Rating</th>\n",
       "      <th>Date&amp;Time</th>\n",
       "      <th>App</th>\n",
       "    </tr>\n",
       "  </thead>\n",
       "  <tbody>\n",
       "    <tr>\n",
       "      <th>95608</th>\n",
       "      <td>95608</td>\n",
       "      <td>Jaydev Nishad</td>\n",
       "      <td>:angry face::expressionless face::rolling on t...</td>\n",
       "      <td>1</td>\n",
       "      <td>2020-08-14 20:50:00</td>\n",
       "      <td>Tinder</td>\n",
       "    </tr>\n",
       "  </tbody>\n",
       "</table>\n",
       "</div>"
      ],
      "text/plain": [
       "          Id           Name  \\\n",
       "95608  95608  Jaydev Nishad   \n",
       "\n",
       "                                                  Review  Rating  \\\n",
       "95608  :angry face::expressionless face::rolling on t...       1   \n",
       "\n",
       "                Date&Time     App  \n",
       "95608 2020-08-14 20:50:00  Tinder  "
      ]
     },
     "execution_count": 22,
     "metadata": {},
     "output_type": "execute_result"
    }
   ],
   "source": [
    "# Replace underscores with spaces to make the converted text compatible with VADER model\n",
    "data['Review'] = data['Review'].str.replace('_', ' ')\n",
    "data[data['Name'].str.contains('Jaydev Nishad', case=False, na=False)]"
   ]
  },
  {
   "cell_type": "markdown",
   "id": "018dd07e-3f03-4a7c-a321-c9ed89a8af3f",
   "metadata": {},
   "source": [
    "To ensure consistent processing, these emoji-only reviews converted to text labels using the emoji library"
   ]
  },
  {
   "cell_type": "code",
   "execution_count": 23,
   "id": "51fe7987-3c53-49d7-bd76-ddcbf61cd671",
   "metadata": {},
   "outputs": [
    {
     "data": {
      "text/plain": [
       "array(['Tinder', 'Bumble', 'Hinge'], dtype=object)"
      ]
     },
     "execution_count": 23,
     "metadata": {},
     "output_type": "execute_result"
    },
    {
     "data": {
      "text/plain": [
       "Rating\n",
       "1    251842\n",
       "5    232732\n",
       "4     86958\n",
       "3     56850\n",
       "2     52226\n",
       "0         1\n",
       "Name: count, dtype: int64"
      ]
     },
     "execution_count": 23,
     "metadata": {},
     "output_type": "execute_result"
    }
   ],
   "source": [
    "# Check for unique values in the 'App' column\n",
    "data['App'].unique()\n",
    "\n",
    "# Check the count of each rating in the 'Rating' column \n",
    "data['Rating'].value_counts()"
   ]
  },
  {
   "cell_type": "code",
   "execution_count": 24,
   "id": "fd7af429-b583-429f-a873-83ce68690dfc",
   "metadata": {},
   "outputs": [],
   "source": [
    "# Filter out row where 'Rating' is 0\n",
    "data = data[data['Rating'] != 0]"
   ]
  },
  {
   "cell_type": "markdown",
   "id": "c331bc54-0ec0-4edf-94b1-d65544e6c472",
   "metadata": {},
   "source": [
    "## Rating to Sentiment"
   ]
  },
  {
   "cell_type": "markdown",
   "id": "eb766b3c-9df5-4db4-9a95-9bbea1898bb8",
   "metadata": {},
   "source": [
    "Initially sentiment classification was split into three-class (positive, neutral, negative). However, during exploratory analysis I noticed that neutral reviews often overlapped with negative sentiment, and many neutral reviews lacked strong sentiment indicators. After running baseline models with accuracy around 60%, the classification was restructured as binary classification task to simplify the task and improve model performance, by merging neutral and negative into a single 'negative' class. This adjustment will lead to a significant increase in model accuracy, indicating that the neutral class was contribution noise rather than usefull insight."
   ]
  },
  {
   "cell_type": "code",
   "execution_count": 25,
   "id": "211ed3a8-221b-4fd7-9a7c-972cba12e54a",
   "metadata": {},
   "outputs": [
    {
     "data": {
      "text/html": [
       "<div>\n",
       "<style scoped>\n",
       "    .dataframe tbody tr th:only-of-type {\n",
       "        vertical-align: middle;\n",
       "    }\n",
       "\n",
       "    .dataframe tbody tr th {\n",
       "        vertical-align: top;\n",
       "    }\n",
       "\n",
       "    .dataframe thead th {\n",
       "        text-align: right;\n",
       "    }\n",
       "</style>\n",
       "<table border=\"1\" class=\"dataframe\">\n",
       "  <thead>\n",
       "    <tr style=\"text-align: right;\">\n",
       "      <th></th>\n",
       "      <th>Id</th>\n",
       "      <th>Name</th>\n",
       "      <th>Review</th>\n",
       "      <th>Rating</th>\n",
       "      <th>Date&amp;Time</th>\n",
       "      <th>App</th>\n",
       "      <th>Sentiment</th>\n",
       "    </tr>\n",
       "  </thead>\n",
       "  <tbody>\n",
       "    <tr>\n",
       "      <th>0</th>\n",
       "      <td>0</td>\n",
       "      <td>linah sibanda</td>\n",
       "      <td>On this app i cant find a partner</td>\n",
       "      <td>5</td>\n",
       "      <td>2022-02-18 01:19:00</td>\n",
       "      <td>Tinder</td>\n",
       "      <td>positive</td>\n",
       "    </tr>\n",
       "    <tr>\n",
       "      <th>1</th>\n",
       "      <td>1</td>\n",
       "      <td>Norman Johnson</td>\n",
       "      <td>Tinder would be so much better if we could spe...</td>\n",
       "      <td>3</td>\n",
       "      <td>2022-02-18 01:16:00</td>\n",
       "      <td>Tinder</td>\n",
       "      <td>negative</td>\n",
       "    </tr>\n",
       "    <tr>\n",
       "      <th>2</th>\n",
       "      <td>2</td>\n",
       "      <td>David Hume</td>\n",
       "      <td>Still doesn't correctly notify matches or mess...</td>\n",
       "      <td>1</td>\n",
       "      <td>2022-02-18 01:11:00</td>\n",
       "      <td>Tinder</td>\n",
       "      <td>negative</td>\n",
       "    </tr>\n",
       "    <tr>\n",
       "      <th>3</th>\n",
       "      <td>3</td>\n",
       "      <td>Last 1 Standing</td>\n",
       "      <td>Got banned because I updated my bio to say \"I ...</td>\n",
       "      <td>2</td>\n",
       "      <td>2022-02-18 01:11:00</td>\n",
       "      <td>Tinder</td>\n",
       "      <td>negative</td>\n",
       "    </tr>\n",
       "    <tr>\n",
       "      <th>4</th>\n",
       "      <td>4</td>\n",
       "      <td>Arthur Magamedov</td>\n",
       "      <td>Love it!</td>\n",
       "      <td>5</td>\n",
       "      <td>2022-02-18 01:06:00</td>\n",
       "      <td>Tinder</td>\n",
       "      <td>positive</td>\n",
       "    </tr>\n",
       "  </tbody>\n",
       "</table>\n",
       "</div>"
      ],
      "text/plain": [
       "   Id              Name                                             Review  \\\n",
       "0   0     linah sibanda                  On this app i cant find a partner   \n",
       "1   1    Norman Johnson  Tinder would be so much better if we could spe...   \n",
       "2   2        David Hume  Still doesn't correctly notify matches or mess...   \n",
       "3   3   Last 1 Standing  Got banned because I updated my bio to say \"I ...   \n",
       "4   4  Arthur Magamedov                                           Love it!   \n",
       "\n",
       "   Rating           Date&Time     App Sentiment  \n",
       "0       5 2022-02-18 01:19:00  Tinder  positive  \n",
       "1       3 2022-02-18 01:16:00  Tinder  negative  \n",
       "2       1 2022-02-18 01:11:00  Tinder  negative  \n",
       "3       2 2022-02-18 01:11:00  Tinder  negative  \n",
       "4       5 2022-02-18 01:06:00  Tinder  positive  "
      ]
     },
     "execution_count": 25,
     "metadata": {},
     "output_type": "execute_result"
    }
   ],
   "source": [
    "def rating_to_sentiment(rating):\n",
    "    if rating in [1, 2, 3]:\n",
    "        return 'negative'\n",
    "    # elif rating == 3:\n",
    "    #     return 'neutral'\n",
    "    else:\n",
    "        return 'positive'\n",
    "\n",
    "# Create a new column 'Sentiment'\n",
    "data['Sentiment'] = data['Rating'].apply(rating_to_sentiment)\n",
    "\n",
    "data.head()\n"
   ]
  },
  {
   "cell_type": "code",
   "execution_count": 26,
   "id": "50e3378e-2824-4e58-ac91-66d342ae577b",
   "metadata": {},
   "outputs": [
    {
     "data": {
      "text/html": [
       "<div>\n",
       "<style scoped>\n",
       "    .dataframe tbody tr th:only-of-type {\n",
       "        vertical-align: middle;\n",
       "    }\n",
       "\n",
       "    .dataframe tbody tr th {\n",
       "        vertical-align: top;\n",
       "    }\n",
       "\n",
       "    .dataframe thead th {\n",
       "        text-align: right;\n",
       "    }\n",
       "</style>\n",
       "<table border=\"1\" class=\"dataframe\">\n",
       "  <thead>\n",
       "    <tr style=\"text-align: right;\">\n",
       "      <th></th>\n",
       "      <th>Id</th>\n",
       "      <th>Name</th>\n",
       "      <th>Review</th>\n",
       "      <th>Date&amp;Time</th>\n",
       "      <th>App</th>\n",
       "      <th>Sentiment</th>\n",
       "    </tr>\n",
       "  </thead>\n",
       "  <tbody>\n",
       "    <tr>\n",
       "      <th>0</th>\n",
       "      <td>0</td>\n",
       "      <td>linah sibanda</td>\n",
       "      <td>On this app i cant find a partner</td>\n",
       "      <td>2022-02-18 01:19:00</td>\n",
       "      <td>Tinder</td>\n",
       "      <td>positive</td>\n",
       "    </tr>\n",
       "    <tr>\n",
       "      <th>1</th>\n",
       "      <td>1</td>\n",
       "      <td>Norman Johnson</td>\n",
       "      <td>Tinder would be so much better if we could spe...</td>\n",
       "      <td>2022-02-18 01:16:00</td>\n",
       "      <td>Tinder</td>\n",
       "      <td>negative</td>\n",
       "    </tr>\n",
       "    <tr>\n",
       "      <th>2</th>\n",
       "      <td>2</td>\n",
       "      <td>David Hume</td>\n",
       "      <td>Still doesn't correctly notify matches or mess...</td>\n",
       "      <td>2022-02-18 01:11:00</td>\n",
       "      <td>Tinder</td>\n",
       "      <td>negative</td>\n",
       "    </tr>\n",
       "    <tr>\n",
       "      <th>3</th>\n",
       "      <td>3</td>\n",
       "      <td>Last 1 Standing</td>\n",
       "      <td>Got banned because I updated my bio to say \"I ...</td>\n",
       "      <td>2022-02-18 01:11:00</td>\n",
       "      <td>Tinder</td>\n",
       "      <td>negative</td>\n",
       "    </tr>\n",
       "    <tr>\n",
       "      <th>4</th>\n",
       "      <td>4</td>\n",
       "      <td>Arthur Magamedov</td>\n",
       "      <td>Love it!</td>\n",
       "      <td>2022-02-18 01:06:00</td>\n",
       "      <td>Tinder</td>\n",
       "      <td>positive</td>\n",
       "    </tr>\n",
       "  </tbody>\n",
       "</table>\n",
       "</div>"
      ],
      "text/plain": [
       "   Id              Name                                             Review  \\\n",
       "0   0     linah sibanda                  On this app i cant find a partner   \n",
       "1   1    Norman Johnson  Tinder would be so much better if we could spe...   \n",
       "2   2        David Hume  Still doesn't correctly notify matches or mess...   \n",
       "3   3   Last 1 Standing  Got banned because I updated my bio to say \"I ...   \n",
       "4   4  Arthur Magamedov                                           Love it!   \n",
       "\n",
       "            Date&Time     App Sentiment  \n",
       "0 2022-02-18 01:19:00  Tinder  positive  \n",
       "1 2022-02-18 01:16:00  Tinder  negative  \n",
       "2 2022-02-18 01:11:00  Tinder  negative  \n",
       "3 2022-02-18 01:11:00  Tinder  negative  \n",
       "4 2022-02-18 01:06:00  Tinder  positive  "
      ]
     },
     "execution_count": 26,
     "metadata": {},
     "output_type": "execute_result"
    }
   ],
   "source": [
    "# Drop 'Rating' column\n",
    "data.drop(columns=['Rating'],inplace = True)\n",
    "data.head()"
   ]
  },
  {
   "cell_type": "markdown",
   "id": "dea8943e-6670-4db8-8516-9a95035c6591",
   "metadata": {},
   "source": [
    "## EDA BEFORE PREPROCESSING"
   ]
  },
  {
   "cell_type": "code",
   "execution_count": 27,
   "id": "f71c8db5-eab4-4735-9cb4-eb06b7327deb",
   "metadata": {},
   "outputs": [
    {
     "data": {
      "text/plain": [
       "Text(0.5, 0, 'Sentiments')"
      ]
     },
     "execution_count": 27,
     "metadata": {},
     "output_type": "execute_result"
    },
    {
     "data": {
      "image/png": "[encoded data removed]",
      "text/plain": [
       "<Figure size 1000x500 with 1 Axes>"
      ]
     },
     "metadata": {},
     "output_type": "display_data"
    }
   ],
   "source": [
    "# Plot the count of reviews for each rating\n",
    "review_by_rating = data['Sentiment'].value_counts().sort_index().plot(kind = 'bar', \n",
    "                                              title = 'Counts of Reviews by Sentiments',\n",
    "                                              figsize = (10,5))\n",
    "review_by_rating.set_xlabel('Sentiments')\n",
    "plt.show()"
   ]
  },
  {
   "cell_type": "markdown",
   "id": "b085fdac-7c7e-4242-93c7-da2dbe1fdf4b",
   "metadata": {},
   "source": [
    "The dataset shows a class imbalance, with a higher proportion of negative reviews compared to positive ones. To address this imbalance and to reduce computational overhead during both exploratory analysis and model training, a balanced subset was created by randomly sampling 25,000 reviews from each sentiment class. This approach ensures the models receive equal exposure to both classes, while also creating a more manageable dataset size for faster processing. While balancing the dataset can lead to lower accuracy compared to working with the full imbalanced set, it produces a more reliable measure of the model's true performance across both classes, avoiding overfitting to the negative sentiment. Given the objective of this project, the sampled dataset will provide sufficient data to build and evaluate a reliable sentiment classifier. "
   ]
  },
  {
   "cell_type": "code",
   "execution_count": 28,
   "id": "063dfdf1-ca43-482a-a294-596d433617e2",
   "metadata": {},
   "outputs": [
    {
     "name": "stdout",
     "output_type": "stream",
     "text": [
      "Sentiment\n",
      "negative    25000\n",
      "positive    25000\n",
      "Name: count, dtype: int64\n",
      "<class 'pandas.core.frame.DataFrame'>\n",
      "Index: 50000 entries, 111028 to 93121\n",
      "Data columns (total 6 columns):\n",
      " #   Column     Non-Null Count  Dtype         \n",
      "---  ------     --------------  -----         \n",
      " 0   Id         50000 non-null  int64         \n",
      " 1   Name       50000 non-null  object        \n",
      " 2   Review     50000 non-null  object        \n",
      " 3   Date&Time  50000 non-null  datetime64[ns]\n",
      " 4   App        50000 non-null  object        \n",
      " 5   Sentiment  50000 non-null  object        \n",
      "dtypes: datetime64[ns](1), int64(1), object(4)\n",
      "memory usage: 2.7+ MB\n"
     ]
    },
    {
     "name": "stderr",
     "output_type": "stream",
     "text": [
      "/var/folders/gl/0z9c8j8x38145vq7j3xh6f640000gn/T/ipykernel_29855/1723471058.py:7: FutureWarning: DataFrameGroupBy.apply operated on the grouping columns. This behavior is deprecated, and in a future version of pandas the grouping columns will be excluded from the operation. Either pass `include_groups=False` to exclude the groupings or explicitly select the grouping columns after groupby to silence this warning.\n",
      "  .apply(lambda x: x.sample(25000, random_state=42))\n"
     ]
    }
   ],
   "source": [
    "# # Randomly sample 10,000 rows\n",
    "# df_list = []\n",
    "\n",
    "# Sample balanced set\n",
    "df = (\n",
    "    data.groupby('Sentiment', group_keys=False)\n",
    "    .apply(lambda x: x.sample(25000, random_state=42))\n",
    ")\n",
    "print(df['Sentiment'].value_counts())\n",
    "\n",
    "\n",
    "# for sentiment_value in [1, 2, 3, 4, 5]:\n",
    "#     df_rating = data[data['Rating'] == rating_value]\n",
    "#     df_rating_sample = df_rating.sample(n=10000, random_state=42)\n",
    "#     df_list.append(df_rating_sample)\n",
    "\n",
    "# # Form the new DatafRame\n",
    "# df = pd.concat(df_list, axis=0).reset_index(drop=True)\n",
    "\n",
    "# print(df['Rating'].value_counts())\n",
    "df.info()"
   ]
  },
  {
   "cell_type": "code",
   "execution_count": 29,
   "id": "41766093-9428-456f-8524-4140ecdd8636",
   "metadata": {},
   "outputs": [],
   "source": [
    "# SAVE THE CLEaned DataFrame to a new CSV file\n",
    "df.to_csv('dataset/cleaned_DatingAppReviewsDataset.csv', index=False)"
   ]
  }
 ],
 "metadata": {
  "kernelspec": {
   "display_name": ".conda",
   "language": "python",
   "name": "python3"
  },
  "language_info": {
   "codemirror_mode": {
    "name": "ipython",
    "version": 3
   },
   "file_extension": ".py",
   "mimetype": "text/x-python",
   "name": "python",
   "nbconvert_exporter": "python",
   "pygments_lexer": "ipython3",
   "version": "3.11.13"
  }
 },
 "nbformat": 4,
 "nbformat_minor": 5
}
