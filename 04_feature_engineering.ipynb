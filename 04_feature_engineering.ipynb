{
 "cells": [
  {
   "cell_type": "code",
   "execution_count": null,
   "id": "f7d534fc-cd9d-41e2-a079-1e4a94f20b05",
   "metadata": {},
   "outputs": [
    {
     "name": "stdout",
     "output_type": "stream",
     "text": [
      "Requirement already satisfied: contractions in /opt/conda/lib/python3.12/site-packages (0.1.73)\n",
      "Requirement already satisfied: textsearch>=0.0.21 in /opt/conda/lib/python3.12/site-packages (from contractions) (0.0.24)\n",
      "Requirement already satisfied: anyascii in /opt/conda/lib/python3.12/site-packages (from textsearch>=0.0.21->contractions) (0.3.2)\n",
      "Requirement already satisfied: pyahocorasick in /opt/conda/lib/python3.12/site-packages (from textsearch>=0.0.21->contractions) (2.1.0)\n",
      "Requirement already satisfied: emoji in /opt/conda/lib/python3.12/site-packages (2.14.1)\n",
      "Requirement already satisfied: wordcloud in /opt/conda/lib/python3.12/site-packages (1.9.4)\n",
      "Requirement already satisfied: numpy>=1.6.1 in /opt/conda/lib/python3.12/site-packages (from wordcloud) (1.26.4)\n",
      "Requirement already satisfied: pillow in /opt/conda/lib/python3.12/site-packages (from wordcloud) (11.1.0)\n",
      "Requirement already satisfied: matplotlib in /opt/conda/lib/python3.12/site-packages (from wordcloud) (3.10.1)\n",
      "Requirement already satisfied: contourpy>=1.0.1 in /opt/conda/lib/python3.12/site-packages (from matplotlib->wordcloud) (1.3.1)\n",
      "Requirement already satisfied: cycler>=0.10 in /opt/conda/lib/python3.12/site-packages (from matplotlib->wordcloud) (0.12.1)\n",
      "Requirement already satisfied: fonttools>=4.22.0 in /opt/conda/lib/python3.12/site-packages (from matplotlib->wordcloud) (4.56.0)\n",
      "Requirement already satisfied: kiwisolver>=1.3.1 in /opt/conda/lib/python3.12/site-packages (from matplotlib->wordcloud) (1.4.8)\n",
      "Requirement already satisfied: packaging>=20.0 in /opt/conda/lib/python3.12/site-packages (from matplotlib->wordcloud) (24.2)\n",
      "Requirement already satisfied: pyparsing>=2.3.1 in /opt/conda/lib/python3.12/site-packages (from matplotlib->wordcloud) (3.2.1)\n",
      "Requirement already satisfied: python-dateutil>=2.7 in /opt/conda/lib/python3.12/site-packages (from matplotlib->wordcloud) (2.9.0.post0)\n",
      "Requirement already satisfied: six>=1.5 in /opt/conda/lib/python3.12/site-packages (from python-dateutil>=2.7->matplotlib->wordcloud) (1.17.0)\n"
     ]
    },
    {
     "name": "stderr",
     "output_type": "stream",
     "text": [
      "[nltk_data] Downloading package vader_lexicon to\n",
      "[nltk_data]     /home/jovyan/nltk_data...\n",
      "[nltk_data]   Package vader_lexicon is already up-to-date!\n"
     ]
    },
    {
     "data": {
      "text/plain": [
       "True"
      ]
     },
     "execution_count": 7,
     "metadata": {},
     "output_type": "execute_result"
    },
    {
     "name": "stderr",
     "output_type": "stream",
     "text": [
      "[nltk_data] Downloading package punkt to /home/jovyan/nltk_data...\n",
      "[nltk_data]   Package punkt is already up-to-date!\n"
     ]
    },
    {
     "data": {
      "text/plain": [
       "True"
      ]
     },
     "execution_count": 7,
     "metadata": {},
     "output_type": "execute_result"
    },
    {
     "name": "stderr",
     "output_type": "stream",
     "text": [
      "[nltk_data] Downloading package stopwords to /home/jovyan/nltk_data...\n",
      "[nltk_data]   Package stopwords is already up-to-date!\n"
     ]
    },
    {
     "data": {
      "text/plain": [
       "True"
      ]
     },
     "execution_count": 7,
     "metadata": {},
     "output_type": "execute_result"
    },
    {
     "name": "stderr",
     "output_type": "stream",
     "text": [
      "[nltk_data] Downloading package wordnet to /home/jovyan/nltk_data...\n",
      "[nltk_data]   Package wordnet is already up-to-date!\n"
     ]
    },
    {
     "data": {
      "text/plain": [
       "True"
      ]
     },
     "execution_count": 7,
     "metadata": {},
     "output_type": "execute_result"
    }
   ],
   "source": [
    "# Import libraries\n",
    "from IPython.core.interactiveshell import InteractiveShell\n",
    "InteractiveShell.ast_node_interactivity = \"all\"\n",
    "\n",
    "import numpy as np \n",
    "import pandas as pd \n",
    "import matplotlib.pyplot as plt \n",
    "import seaborn as sns\n",
    "plt.style.use('ggplot')\n",
    "\n",
    "import ast\n",
    "import contractions\n",
    "from wordcloud import WordCloud\n",
    "import emoji\n",
    "import re\n",
    "import string \n",
    "import nltk\n",
    "nltk.download('vader_lexicon')\n",
    "nltk.download('punkt')\n",
    "nltk.download('stopwords')\n",
    "nltk.download('wordnet')\n",
    "from collections import Counter\n",
    "from nltk.stem import WordNetLemmatizer\n",
    "from nltk.corpus import stopwords\n",
    "from nltk.sentiment import SentimentIntensityAnalyzer\n",
    "from tqdm.notebook import tqdm \n",
    "from nltk.tokenize import word_tokenize"
   ]
  },
  {
   "cell_type": "code",
   "execution_count": null,
   "id": "466dc44a-cae0-40d9-b758-9bb19243cdd7",
   "metadata": {},
   "outputs": [
    {
     "data": {
      "text/html": [
       "<div>\n",
       "<style scoped>\n",
       "    .dataframe tbody tr th:only-of-type {\n",
       "        vertical-align: middle;\n",
       "    }\n",
       "\n",
       "    .dataframe tbody tr th {\n",
       "        vertical-align: top;\n",
       "    }\n",
       "\n",
       "    .dataframe thead th {\n",
       "        text-align: right;\n",
       "    }\n",
       "</style>\n",
       "<table border=\"1\" class=\"dataframe\">\n",
       "  <thead>\n",
       "    <tr style=\"text-align: right;\">\n",
       "      <th></th>\n",
       "      <th>Id</th>\n",
       "      <th>neg</th>\n",
       "      <th>neu</th>\n",
       "      <th>pos</th>\n",
       "      <th>compound</th>\n",
       "      <th>Name</th>\n",
       "      <th>Review</th>\n",
       "      <th>Date&amp;Time</th>\n",
       "      <th>App</th>\n",
       "      <th>Sentiment</th>\n",
       "      <th>Tokens</th>\n",
       "      <th>Sentiment_Numeric</th>\n",
       "      <th>TokenCount</th>\n",
       "    </tr>\n",
       "  </thead>\n",
       "  <tbody>\n",
       "    <tr>\n",
       "      <th>0</th>\n",
       "      <td>111028</td>\n",
       "      <td>0.074</td>\n",
       "      <td>0.926</td>\n",
       "      <td>0.000</td>\n",
       "      <td>-0.0516</td>\n",
       "      <td>Jasper Ancajas</td>\n",
       "      <td>i have a hard time logging in so i uninstalled...</td>\n",
       "      <td>2020-05-28 19:28:00</td>\n",
       "      <td>Tinder</td>\n",
       "      <td>negative</td>\n",
       "      <td>['hard', 'time', 'log', 'uninstalled', 'app', ...</td>\n",
       "      <td>-1</td>\n",
       "      <td>9</td>\n",
       "    </tr>\n",
       "    <tr>\n",
       "      <th>1</th>\n",
       "      <td>211245</td>\n",
       "      <td>0.167</td>\n",
       "      <td>0.833</td>\n",
       "      <td>0.000</td>\n",
       "      <td>-0.2960</td>\n",
       "      <td>Tiger 181</td>\n",
       "      <td>i am getting no match and like...in stead of s...</td>\n",
       "      <td>2019-03-03 21:08:00</td>\n",
       "      <td>Tinder</td>\n",
       "      <td>negative</td>\n",
       "      <td>['get', 'no', 'match', 'like', 'stead', 'spend...</td>\n",
       "      <td>-1</td>\n",
       "      <td>8</td>\n",
       "    </tr>\n",
       "    <tr>\n",
       "      <th>2</th>\n",
       "      <td>9624</td>\n",
       "      <td>0.431</td>\n",
       "      <td>0.000</td>\n",
       "      <td>0.569</td>\n",
       "      <td>0.1779</td>\n",
       "      <td>Mr 21</td>\n",
       "      <td>no good</td>\n",
       "      <td>2021-02-03 21:38:00</td>\n",
       "      <td>Hinge</td>\n",
       "      <td>negative</td>\n",
       "      <td>['no', 'good']</td>\n",
       "      <td>-1</td>\n",
       "      <td>2</td>\n",
       "    </tr>\n",
       "    <tr>\n",
       "      <th>3</th>\n",
       "      <td>198692</td>\n",
       "      <td>0.338</td>\n",
       "      <td>0.519</td>\n",
       "      <td>0.143</td>\n",
       "      <td>-0.4588</td>\n",
       "      <td>Tim Stone</td>\n",
       "      <td>got banned for no reason, paid customer for ye...</td>\n",
       "      <td>2019-04-20 13:56:00</td>\n",
       "      <td>Tinder</td>\n",
       "      <td>negative</td>\n",
       "      <td>['get', 'ban', 'no', 'reason', 'paid', 'custom...</td>\n",
       "      <td>-1</td>\n",
       "      <td>9</td>\n",
       "    </tr>\n",
       "    <tr>\n",
       "      <th>4</th>\n",
       "      <td>27599</td>\n",
       "      <td>0.180</td>\n",
       "      <td>0.755</td>\n",
       "      <td>0.065</td>\n",
       "      <td>-0.5057</td>\n",
       "      <td>Thelma Barbara</td>\n",
       "      <td>the more i use this app the more i am appalled...</td>\n",
       "      <td>2021-08-31 17:19:00</td>\n",
       "      <td>Tinder</td>\n",
       "      <td>negative</td>\n",
       "      <td>['use', 'app', 'appalled', 'incredible', 'numb...</td>\n",
       "      <td>-1</td>\n",
       "      <td>6</td>\n",
       "    </tr>\n",
       "  </tbody>\n",
       "</table>\n",
       "</div>"
      ],
      "text/plain": [
       "       Id    neg    neu    pos  compound            Name  \\\n",
       "0  111028  0.074  0.926  0.000   -0.0516  Jasper Ancajas   \n",
       "1  211245  0.167  0.833  0.000   -0.2960       Tiger 181   \n",
       "2    9624  0.431  0.000  0.569    0.1779           Mr 21   \n",
       "3  198692  0.338  0.519  0.143   -0.4588       Tim Stone   \n",
       "4   27599  0.180  0.755  0.065   -0.5057  Thelma Barbara   \n",
       "\n",
       "                                              Review            Date&Time  \\\n",
       "0  i have a hard time logging in so i uninstalled...  2020-05-28 19:28:00   \n",
       "1  i am getting no match and like...in stead of s...  2019-03-03 21:08:00   \n",
       "2                                            no good  2021-02-03 21:38:00   \n",
       "3  got banned for no reason, paid customer for ye...  2019-04-20 13:56:00   \n",
       "4  the more i use this app the more i am appalled...  2021-08-31 17:19:00   \n",
       "\n",
       "      App Sentiment                                             Tokens  \\\n",
       "0  Tinder  negative  ['hard', 'time', 'log', 'uninstalled', 'app', ...   \n",
       "1  Tinder  negative  ['get', 'no', 'match', 'like', 'stead', 'spend...   \n",
       "2   Hinge  negative                                     ['no', 'good']   \n",
       "3  Tinder  negative  ['get', 'ban', 'no', 'reason', 'paid', 'custom...   \n",
       "4  Tinder  negative  ['use', 'app', 'appalled', 'incredible', 'numb...   \n",
       "\n",
       "   Sentiment_Numeric  TokenCount  \n",
       "0                 -1           9  \n",
       "1                 -1           8  \n",
       "2                 -1           2  \n",
       "3                 -1           9  \n",
       "4                 -1           6  "
      ]
     },
     "execution_count": 9,
     "metadata": {},
     "output_type": "execute_result"
    },
    {
     "name": "stdout",
     "output_type": "stream",
     "text": [
      "<class 'pandas.core.frame.DataFrame'>\n",
      "RangeIndex: 50000 entries, 0 to 49999\n",
      "Data columns (total 13 columns):\n",
      " #   Column             Non-Null Count  Dtype  \n",
      "---  ------             --------------  -----  \n",
      " 0   Id                 50000 non-null  int64  \n",
      " 1   neg                50000 non-null  float64\n",
      " 2   neu                50000 non-null  float64\n",
      " 3   pos                50000 non-null  float64\n",
      " 4   compound           50000 non-null  float64\n",
      " 5   Name               50000 non-null  object \n",
      " 6   Review             49950 non-null  object \n",
      " 7   Date&Time          50000 non-null  object \n",
      " 8   App                50000 non-null  object \n",
      " 9   Sentiment          50000 non-null  object \n",
      " 10  Tokens             50000 non-null  object \n",
      " 11  Sentiment_Numeric  50000 non-null  int64  \n",
      " 12  TokenCount         50000 non-null  int64  \n",
      "dtypes: float64(4), int64(3), object(6)\n",
      "memory usage: 5.0+ MB\n"
     ]
    }
   ],
   "source": [
    "# Reload the Data\n",
    "df = pd.read_csv('dataset/afterEDA_DatingAppReviewsDataset.csv')\n",
    "df.head()\n",
    "df.info()"
   ]
  },
  {
   "cell_type": "markdown",
   "id": "47ea7655-6174-4037-ac6b-c6896042791a",
   "metadata": {},
   "source": [
    "## Feature Extraction "
   ]
  },
  {
   "cell_type": "code",
   "execution_count": 10,
   "id": "dc1ead8d-39f1-46b4-835e-8c36cf110434",
   "metadata": {},
   "outputs": [],
   "source": [
    "# 'Tokens' column needs to be converted from string to list\n",
    "df['Tokens'] = df['Tokens'].apply(ast.literal_eval) \n",
    "\n",
    "# The cleaned Tokens were joined back into space-separated strings for TF-IDF Vectorizer to work \n",
    "df['Cleaned_Review'] = df['Tokens'].apply(lambda x: ' '.join(x))"
   ]
  },
  {
   "cell_type": "code",
   "execution_count": 11,
   "id": "4d946413-3bac-46e9-88b9-b54e7370475b",
   "metadata": {},
   "outputs": [
    {
     "name": "stdout",
     "output_type": "stream",
     "text": [
      "<class 'pandas.core.frame.DataFrame'>\n",
      "RangeIndex: 50000 entries, 0 to 49999\n",
      "Data columns (total 14 columns):\n",
      " #   Column             Non-Null Count  Dtype  \n",
      "---  ------             --------------  -----  \n",
      " 0   Id                 50000 non-null  int64  \n",
      " 1   neg                50000 non-null  float64\n",
      " 2   neu                50000 non-null  float64\n",
      " 3   pos                50000 non-null  float64\n",
      " 4   compound           50000 non-null  float64\n",
      " 5   Name               50000 non-null  object \n",
      " 6   Review             49950 non-null  object \n",
      " 7   Date&Time          50000 non-null  object \n",
      " 8   App                50000 non-null  object \n",
      " 9   Sentiment          50000 non-null  object \n",
      " 10  Tokens             50000 non-null  object \n",
      " 11  Sentiment_Numeric  50000 non-null  int64  \n",
      " 12  TokenCount         50000 non-null  int64  \n",
      " 13  Cleaned_Review     50000 non-null  object \n",
      "dtypes: float64(4), int64(3), object(7)\n",
      "memory usage: 5.3+ MB\n"
     ]
    }
   ],
   "source": [
    "df.info()"
   ]
  },
  {
   "cell_type": "code",
   "execution_count": 12,
   "id": "c776bc06-3911-4df9-a5e3-b3a584ca10ef",
   "metadata": {},
   "outputs": [
    {
     "data": {
      "text/html": [
       "<div>\n",
       "<style scoped>\n",
       "    .dataframe tbody tr th:only-of-type {\n",
       "        vertical-align: middle;\n",
       "    }\n",
       "\n",
       "    .dataframe tbody tr th {\n",
       "        vertical-align: top;\n",
       "    }\n",
       "\n",
       "    .dataframe thead th {\n",
       "        text-align: right;\n",
       "    }\n",
       "</style>\n",
       "<table border=\"1\" class=\"dataframe\">\n",
       "  <thead>\n",
       "    <tr style=\"text-align: right;\">\n",
       "      <th></th>\n",
       "      <th>Id</th>\n",
       "      <th>Tokens</th>\n",
       "      <th>Sentiment_Numeric</th>\n",
       "      <th>TokenCount</th>\n",
       "      <th>Cleaned_Review</th>\n",
       "    </tr>\n",
       "  </thead>\n",
       "  <tbody>\n",
       "    <tr>\n",
       "      <th>0</th>\n",
       "      <td>111028</td>\n",
       "      <td>[hard, time, log, uninstalled, app, not, insta...</td>\n",
       "      <td>-1</td>\n",
       "      <td>9</td>\n",
       "      <td>hard time log uninstalled app not install app ...</td>\n",
       "    </tr>\n",
       "    <tr>\n",
       "      <th>1</th>\n",
       "      <td>211245</td>\n",
       "      <td>[get, no, match, like, stead, spending, nearly...</td>\n",
       "      <td>-1</td>\n",
       "      <td>8</td>\n",
       "      <td>get no match like stead spending nearly r</td>\n",
       "    </tr>\n",
       "    <tr>\n",
       "      <th>2</th>\n",
       "      <td>9624</td>\n",
       "      <td>[no, good]</td>\n",
       "      <td>-1</td>\n",
       "      <td>2</td>\n",
       "      <td>no good</td>\n",
       "    </tr>\n",
       "    <tr>\n",
       "      <th>3</th>\n",
       "      <td>198692</td>\n",
       "      <td>[get, ban, no, reason, paid, customer, year, m...</td>\n",
       "      <td>-1</td>\n",
       "      <td>9</td>\n",
       "      <td>get ban no reason paid customer year massive joke</td>\n",
       "    </tr>\n",
       "    <tr>\n",
       "      <th>4</th>\n",
       "      <td>27599</td>\n",
       "      <td>[use, app, appalled, incredible, number, scammer]</td>\n",
       "      <td>-1</td>\n",
       "      <td>6</td>\n",
       "      <td>use app appalled incredible number scammer</td>\n",
       "    </tr>\n",
       "  </tbody>\n",
       "</table>\n",
       "</div>"
      ],
      "text/plain": [
       "       Id                                             Tokens  \\\n",
       "0  111028  [hard, time, log, uninstalled, app, not, insta...   \n",
       "1  211245  [get, no, match, like, stead, spending, nearly...   \n",
       "2    9624                                         [no, good]   \n",
       "3  198692  [get, ban, no, reason, paid, customer, year, m...   \n",
       "4   27599  [use, app, appalled, incredible, number, scammer]   \n",
       "\n",
       "   Sentiment_Numeric  TokenCount  \\\n",
       "0                 -1           9   \n",
       "1                 -1           8   \n",
       "2                 -1           2   \n",
       "3                 -1           9   \n",
       "4                 -1           6   \n",
       "\n",
       "                                      Cleaned_Review  \n",
       "0  hard time log uninstalled app not install app ...  \n",
       "1          get no match like stead spending nearly r  \n",
       "2                                            no good  \n",
       "3  get ban no reason paid customer year massive joke  \n",
       "4         use app appalled incredible number scammer  "
      ]
     },
     "execution_count": 12,
     "metadata": {},
     "output_type": "execute_result"
    }
   ],
   "source": [
    "# Dropping all unnecessary columns\n",
    "df.drop(columns=['neg','neu','pos','compound','Name','Sentiment','Review','Date&Time', 'App'],inplace = True)\n",
    "df.head()"
   ]
  },
  {
   "cell_type": "code",
   "execution_count": null,
   "id": "9c580433-893b-47d5-84f4-2f2d0e66b3dc",
   "metadata": {},
   "outputs": [],
   "source": [
    "# df.to_csv('featured_DatingAppReviewsDataset.csv', index=False)\n",
    "df.to_pickle('dataset/cleaned_reviews.pkl')"
   ]
  }
 ],
 "metadata": {
  "kernelspec": {
   "display_name": "Python 3 (ipykernel)",
   "language": "python",
   "name": "python3"
  },
  "language_info": {
   "codemirror_mode": {
    "name": "ipython",
    "version": 3
   },
   "file_extension": ".py",
   "mimetype": "text/x-python",
   "name": "python",
   "nbconvert_exporter": "python",
   "pygments_lexer": "ipython3",
   "version": "3.12.8"
  }
 },
 "nbformat": 4,
 "nbformat_minor": 5
}
